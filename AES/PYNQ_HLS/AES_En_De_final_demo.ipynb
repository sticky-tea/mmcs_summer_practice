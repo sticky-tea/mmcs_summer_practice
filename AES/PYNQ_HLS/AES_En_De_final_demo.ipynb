{
 "cells": [
  {
   "cell_type": "markdown",
   "metadata": {},
   "source": [
    "# AES\n",
    "# Шифрование/дешифрование символов, текстовых файлов, изображений\n",
    "### Примечание: HLS IP-блока поддерживает входной буфер размером до 345600 байт/символов"
   ]
  },
  {
   "cell_type": "markdown",
   "metadata": {},
   "source": [
    "## Импорт библиотек"
   ]
  },
  {
   "cell_type": "code",
   "execution_count": 1,
   "metadata": {},
   "outputs": [
    {
     "data": {
      "application/javascript": [
       "\n",
       "require(['notebook/js/codecell'], function(codecell) {\n",
       "  codecell.CodeCell.options_default.highlight_modes[\n",
       "      'magic_text/x-csrc'] = {'reg':[/^%%microblaze/]};\n",
       "  Jupyter.notebook.events.one('kernel_ready.Kernel', function(){\n",
       "      Jupyter.notebook.get_cells().map(function(cell){\n",
       "          if (cell.cell_type == 'code'){ cell.auto_highlight(); } }) ;\n",
       "  });\n",
       "});\n"
      ]
     },
     "metadata": {},
     "output_type": "display_data"
    }
   ],
   "source": [
    "from pynq import Overlay\n",
    "import time\n",
    "# import pynq.lib.dma\n",
    "Max_buffer_size = 345600"
   ]
  },
  {
   "cell_type": "markdown",
   "metadata": {},
   "source": [
    "## Добавление битстрима"
   ]
  },
  {
   "cell_type": "code",
   "execution_count": 2,
   "metadata": {},
   "outputs": [],
   "source": [
    "AES_En_De_overlay = Overlay(\"./bitstream/AES_En_De.bit\")"
   ]
  },
  {
   "cell_type": "code",
   "execution_count": 3,
   "metadata": {},
   "outputs": [],
   "source": [
    "AES_En_De = AES_En_De_overlay.AES_En_De_0\n",
    "dma_ip = AES_En_De_overlay.axi_dma_0"
   ]
  },
  {
   "cell_type": "code",
   "execution_count": 4,
   "metadata": {},
   "outputs": [
    {
     "name": "stdout",
     "output_type": "stream",
     "text": [
      "sendstatus True recvstatus True\n"
     ]
    }
   ],
   "source": [
    "sendstatus = dma_ip.sendchannel.running\n",
    "recvstatus = dma_ip.recvchannel.running\n",
    "print(\"sendstatus\", sendstatus,\"recvstatus\",recvstatus)"
   ]
  },
  {
   "cell_type": "code",
   "execution_count": 5,
   "metadata": {},
   "outputs": [],
   "source": [
    "# AES_En_De_overlay.ip_dict"
   ]
  },
  {
   "cell_type": "markdown",
   "metadata": {},
   "source": [
    "## Создание объекта MMIO для доступа к функцииAES_En_De"
   ]
  },
  {
   "cell_type": "code",
   "execution_count": 6,
   "metadata": {},
   "outputs": [],
   "source": [
    "from pynq import MMIO\n",
    "AES_En_D_address = AES_En_De_overlay.ip_dict['AES_En_De_0']['phys_addr']\n",
    "addr_range = 0x40  # 64\n",
    "mmio = MMIO(AES_En_D_address, addr_range)"
   ]
  },
  {
   "cell_type": "markdown",
   "metadata": {},
   "source": [
    "## Вызов функций HLS"
   ]
  },
  {
   "cell_type": "code",
   "execution_count": 7,
   "metadata": {},
   "outputs": [],
   "source": [
    "from pynq import Xlnk\n",
    "import numpy as np\n",
    "xlnk = Xlnk()\n",
    "\"\"\"\n",
    "def call_AES_En_De(input_bytes, num_of_input_bytes, key_bytes_object, en_or_decryption):\n",
    "Вызов HLS функции\n",
    "    input:\n",
    "        input_bytes:   массив байт размера 16\n",
    "        num_of_input_bytes:  количество байт\n",
    "        key_bytes_object: 16-байтовый ключ\n",
    "        en_or_decryption: 0 - шифрование, 1 - расшифрование         \n",
    "    \n",
    "    return:\n",
    "        bytearray: массив байт размера 16\n",
    "\"\"\"\n",
    "def call_AES_En_De(input_bytes, num_of_input_bytes, key_bytes_object, en_or_decryption):\n",
    "\n",
    "    ## Создание объекта Xlnk для доступа к DMA   \n",
    "    in_buffer = xlnk.cma_array(shape=(num_of_input_bytes,),dtype = np.uint8)  #uint8\n",
    "    out_buffer = xlnk.cma_array(shape=(num_of_input_bytes,),dtype = np.uint8)\n",
    "\n",
    "    input_bytes = np.array( bytearray(input_bytes))\n",
    "    np.copyto(in_buffer,input_bytes)\n",
    "\n",
    "    ## Запись необходимых данных\n",
    "    mmio.write(32, key_bytes_object ) \n",
    "    mmio.write(16, num_of_input_bytes ) \n",
    "    mmio.write(20, en_or_decryption )\n",
    "\n",
    "    while( not( mmio.read(0x00) & 0x4) ): # Ожидание AP_READY\n",
    "        pass                             \n",
    "    \n",
    "    ## Начало DMA передачи\n",
    "    dma_ip.sendchannel.transfer(in_buffer)\n",
    "    dma_ip.recvchannel.transfer(out_buffer)\n",
    "    mmio.write(0x00, 0x01) # Запись AP_START для начала отправки\n",
    "\n",
    "    ## Ожидание завершения передачи\n",
    "    dma_ip.sendchannel.wait()\n",
    "    dma_ip.recvchannel.wait()    \n",
    "\n",
    "    bytes_arrray = bytearray(out_buffer)\n",
    "#     print( \"hex：\", bytes_arrray.hex() ) \n",
    "    \n",
    "    return bytes_arrray"
   ]
  },
  {
   "cell_type": "markdown",
   "metadata": {},
   "source": [
    "## Функция расширения нулями входного текста до значения, кратного 128 бит\n",
    "## Ключ должен быть ровно 128 бит"
   ]
  },
  {
   "cell_type": "code",
   "execution_count": 8,
   "metadata": {},
   "outputs": [],
   "source": [
    "\"\"\"\n",
    "def expand_to_128b(plain_text, encoding):\n",
    "    input:\n",
    "        plain_text:  входная строка\n",
    "        encoding:   кодировка: 'ascii', 'unicode', 'utf-8'\n",
    "    \n",
    "    return:\n",
    "        plain_text:   строка, расширенная до 16 байт\n",
    "\"\"\"\n",
    "def expand_to_128b(plain_text, encoding= \"utf-8\" ):\n",
    "   \n",
    "    if ( isinstance(plain_text, str) ):\n",
    "        plain_text = bytearray(plain_text.encode(encoding))\n",
    "        \n",
    "    elif ( isinstance(plain_text, bytes) ):        \n",
    "        plain_text = bytearray(plain_text)\n",
    "    \n",
    "    len_to_add = 16 - len(plain_text)%16   \n",
    "    \n",
    "    while(len_to_add > 0 and len_to_add < 16 ):\n",
    "        plain_text.append(0)\n",
    "        len_to_add = len_to_add - 1    \n",
    "    \n",
    "#     print(\"Длина строки после расширения：\",len(plain_text))\n",
    "#     print(\"Новая строка: \",plain_text.decode('utf-8'))   \n",
    "    \n",
    "    return plain_text"
   ]
  },
  {
   "cell_type": "markdown",
   "metadata": {},
   "source": [
    "# Функция шифрования сообщения\n",
    "## Шифрование/дешифрование сообщения любой длины\n",
    "### В случае не кратности 16 байтам, добавляются нули"
   ]
  },
  {
   "cell_type": "code",
   "execution_count": 9,
   "metadata": {},
   "outputs": [],
   "source": [
    "\"\"\"\n",
    "def string_AES_En_De(plain_text, key_text, en_or_decryption, encoding):\n",
    "    input:\n",
    "        plain_text: строка любой длины\n",
    "        key_text:   ключ любой длины\n",
    "        en_or_decryption: 0 - шифрование, 1 - дешифрование   \n",
    "        encoding:   кодировка\n",
    "    \n",
    "    return:\n",
    "        bytearray: bytearray после шифрования, str после дешифрования    \n",
    "        \n",
    "\"\"\"\n",
    "def string_AES_En_De(plain_text, key_text, en_or_decryption, encoding= \"utf-8\" ):\n",
    "\n",
    "    if( len(key_text.encode( encoding ))<=16 ):      #  'utf-8'\n",
    "        key_text = expand_to_128b(key_text, encoding)\n",
    "    else:\n",
    "        print(\"key length is too long, \"+encoding+\" after endoding：\",len(key_text.encode( encoding ))) #  'utf-8'\n",
    "        return b\"this is a wrong return~~no!!!\"\n",
    "\n",
    "    result_text = bytearray()\n",
    "    \n",
    "    \n",
    "    if ( en_or_decryption == 0):   \n",
    "        plain_text = expand_to_128b(plain_text, encoding)       \n",
    "        \n",
    "        len_of_plain_text = len(plain_text)\n",
    "        \n",
    "        if( len_of_plain_text < Max_buffer_size):\n",
    "#             pass\n",
    "            result_text = call_AES_En_De(plain_text, len_of_plain_text, bytes(key_text), en_or_decryption)\n",
    "        else:\n",
    "            i = 0        \n",
    "            while(i < len_of_plain_text):\n",
    "                rest_of_bytes = len_of_plain_text - i\n",
    "                if(rest_of_bytes > Max_buffer_size ):\n",
    "                    result_text.extend( call_AES_En_De((plain_text[i : i + Max_buffer_size]), Max_buffer_size, bytes(key_text),en_or_decryption) )\n",
    "                else:\n",
    "                    result_text.extend( call_AES_En_De((plain_text[i : i + rest_of_bytes]), rest_of_bytes, bytes(key_text),en_or_decryption) )\n",
    "                i = i + Max_buffer_size\n",
    "        \n",
    "        #print(\"***Шифрование текста в \"+encoding+\"：\",result_text)\n",
    "\n",
    "\n",
    "\n",
    "\n",
    "    elif ( en_or_decryption == 1):\n",
    "        if ( isinstance(plain_text, str) ):\n",
    "            plain_text = bytes.fromhex(plain_text)\n",
    "        len_of_plain_text = len(plain_text)\n",
    "        \n",
    "        if( len_of_plain_text < Max_buffer_size):\n",
    "#             pass\n",
    "            result_text = call_AES_En_De(plain_text, len_of_plain_text, bytes(key_text), en_or_decryption)        \n",
    "        else:\n",
    "            i = 0        \n",
    "            while(i < len_of_plain_text):\n",
    "                rest_of_bytes = len_of_plain_text - i\n",
    "                if(rest_of_bytes > Max_buffer_size ):\n",
    "                    result_text.extend( call_AES_En_De((plain_text[i : i + Max_buffer_size]), Max_buffer_size, bytes(key_text),en_or_decryption) )\n",
    "                else:\n",
    "                    result_text.extend( call_AES_En_De((plain_text[i : i + rest_of_bytes]), rest_of_bytes, bytes(key_text),en_or_decryption) )\n",
    "                i = i + Max_buffer_size\n",
    "        \n",
    "        result_text = result_text.decode( encoding )\n",
    "        #print(\"***Дешифрование текста в \"+encoding+\"：\",result_text)\n",
    "\n",
    "    return result_text"
   ]
  },
  {
   "cell_type": "markdown",
   "metadata": {},
   "source": [
    "# Тесты \n",
    "\n",
    "注意：Примечание: HLS IP-блока поддерживает входной буфер размером до 345600 байт/символов "
   ]
  },
  {
   "cell_type": "markdown",
   "metadata": {},
   "source": [
    "## Шифрование входной строки с кодировкой utf-8\n",
    "Проверку можно провести здесь: https://the-x.cn/cryptography/Aes.aspx"
   ]
  },
  {
   "cell_type": "code",
   "execution_count": 10,
   "metadata": {
    "scrolled": false
   },
   "outputs": [
    {
     "name": "stdout",
     "output_type": "stream",
     "text": [
      "128\n",
      "Зашифрованный текст в utf-8： b68703682d02f035c670a1110c82bb0482e1001d0ea54d53fb71192227f448ba10f359a9b1ba0cb22e2216950fabb745d60e6b67c61b93460a0ebe76b460b45b8e6d916c8f0dbbe26e622986b09b8dc704f2d7d3f964d123f1f68f2744d92ecad8ce5d59f89bccb25df4182d81fab3e86baa4ec7df4f4db66c599c27aff409c8\n",
      "94\n",
      "<class 'str'>\n",
      "this is a test string---2020年新工科联盟-Xilinx 暑期学校（Summer School）项目---  2020年8月1日02:02:15\u0000\u0000\u0000\u0000\u0000\u0000\u0000\u0000\u0000\n"
     ]
    }
   ],
   "source": [
    "plain_text = \"this is a test string---2020年新工科联盟-Xilinx 暑期学校（Summer School）项目---  2020年8月1日02:02:15\"\n",
    "key_text = \"Xilinx暑校\"\n",
    "encoding = \"utf-8\"\n",
    "\n",
    "cipher  = string_AES_En_De(plain_text,key_text,0, encoding)\n",
    "print(len(cipher))\n",
    "print(\"Зашифрованный текст в utf-8：\",cipher.hex())\n",
    "\n",
    "plain  = string_AES_En_De(cipher,key_text,1, encoding)\n",
    "print(len(plain))\n",
    "print(type(plain))\n",
    "print(plain)\n",
    "\n",
    "## тест шифрования/дешифрования одной и той же строки\n",
    "# cipher  = string_AES_En_De(plain, key_text,0, encoding)\n",
    "# print(len(cipher))\n",
    "# print(\"密文 hex utf-8：\",cipher.hex())\n",
    "\n",
    "# plain  = string_AES_En_De(cipher,key_text,1, encoding)\n",
    "# print(len(plain))\n",
    "# print(plain)\n",
    "\n",
    "# import base64\n",
    "# base64.b64encode(cipher)\n",
    "\n",
    "# help(str.encode)"
   ]
  },
  {
   "cell_type": "markdown",
   "metadata": {},
   "source": [
    "Перекрестная проверка\n",
    "1. Результат шифрования совпадает с результатом шифрования онлайн-инструмента шифрования AES  \n",
    "2. Зашифрованный результат онлайн-инструмента шифрования AES правильно дешифровывается "
   ]
  },
  {
   "cell_type": "code",
   "execution_count": 11,
   "metadata": {},
   "outputs": [],
   "source": [
    "cipher_hex = \"b68703682d02f035c670a1110c82bb0482e1001d0ea54d53fb71192227f448ba10f359a9b1ba0cb22e2216950fabb745d60e6b67c61b93460a0ebe76b460b45b8e6d916c8f0dbbe26e622986b09b8dc704f2d7d3f964d123f1f68f2744d92ecad8ce5d59f89bccb25df4182d81fab3e86baa4ec7df4f4db66c599c27aff409c8\"\n",
    "\n",
    "plain  = string_AES_En_De((cipher_hex),key_text,1, encoding)\n",
    "\n",
    "# cipher_objects = bytes.fromhex(cipher_hex)\n",
    "# # hex = hex_str.encode('utf-8')\n",
    "\n",
    "# # cipher_objects = cipher_hex.encode(encoding)\n",
    "# print(cipher == cipher_objects)\n",
    "# print(cipher)\n",
    "# print(len(cipher))\n",
    "\n",
    "# print(cipher_objects)\n",
    "# print(bytearray(cipher_objects))\n",
    "\n",
    "# print(len(cipher_objects))\n",
    "\n",
    "# plain  = string_AES_En_De((cipher_objects),key_text,1, encoding)"
   ]
  },
  {
   "cell_type": "markdown",
   "metadata": {},
   "source": [
    "# Шифрование/дешифрование файлов\n",
    "## Текстовые файлы"
   ]
  },
  {
   "cell_type": "code",
   "execution_count": 14,
   "metadata": {},
   "outputs": [],
   "source": [
    "\"\"\"\n",
    "def file_AES_En_De(file_name, key_text, en_or_decryption, encoding= \"utf-8\" ):\n",
    "    input:\n",
    "        file_name: имя файла, помещённого в ./files/ \n",
    "        key_text:   ключ любой длины\n",
    "        en_or_decryption: 0 - шифрование, 1 - дешифрование   \n",
    "        encoding:   кодировка\n",
    "    \n",
    "    return:\n",
    "        str  : строка с логами о записанном файле\n",
    "        \n",
    "\"\"\"\n",
    "floder_path = \"./files/\"\n",
    "def file_AES_En_De(file_name, key_text, en_or_decryption, encoding= \"utf-8\" ): \n",
    "    \n",
    "    result_text = bytearray()    \n",
    "    \n",
    "    if ( en_or_decryption == 0):\n",
    "        \n",
    "        f = open(floder_path + file_name ,'r',encoding = encoding)        \n",
    "        plain_text= f.read()\n",
    "        f.close()        \n",
    "       \n",
    "        result_text = string_AES_En_De( plain_text , key_text, en_or_decryption, encoding )       \n",
    "    \n",
    "        #write_out_file_path = floder_path + \"encrypted_\" + file_name\n",
    "        #f = open( write_out_file_path ,'wb')\n",
    "        #f.write(result_text)\n",
    "        #f.close()\n",
    "        return \"Запись в файл после шифрования：\"#+ write_out_file_path\n",
    "\n",
    "    elif ( en_or_decryption == 1):\n",
    "        \n",
    "        f = open(floder_path + file_name,'rb')\n",
    "        plain_text= f.read()\n",
    "        f.close()\n",
    "        \n",
    "        result_text = string_AES_En_De(plain_text, key_text, en_or_decryption, encoding) # расшифрованый вывод - строка\n",
    "        \n",
    "        write_out_file_path = floder_path + \"decrypted_\" + file_name\n",
    "        f = open( write_out_file_path ,'w')\n",
    "        f.write(result_text)\n",
    "        f.close()\n",
    "        return \"Запись в файл после дешифрования：\"+ write_out_file_path\n",
    "#     return result_text\n",
    "    "
   ]
  },
  {
   "cell_type": "markdown",
   "metadata": {},
   "source": [
    "## Тест шифрования текстовых файлов"
   ]
  },
  {
   "cell_type": "code",
   "execution_count": 15,
   "metadata": {
    "scrolled": false
   },
   "outputs": [
    {
     "name": "stdout",
     "output_type": "stream",
     "text": [
      "200kb file time elapsed:  0.03777456283569336\n",
      "1mb file time elapsed:  0.25138163566589355\n",
      "10mb file time elapsed:  3.778394937515259\n",
      "100mb file time elapsed:  21.70111656188965\n"
     ]
    }
   ],
   "source": [
    "## Файл сохранён в utf-8\n",
    "# folder_path = \"./files/\"\n",
    "\n",
    "file_name_200kb = \"test_200kb.txt\" \n",
    "file_name_1mb = \"test_1mb.txt\" \n",
    "file_name_10mb = \"test_10mb.txt\" \n",
    "file_name_100mb = \"test_100mb.txt\" \n",
    "\n",
    "\n",
    "start = time.time()\n",
    "file_AES_En_De(file_name_200kb, key_text, 0, encoding= \"utf-8\" )\n",
    "end = time.time()\n",
    "\n",
    "print('200kb file time elapsed: ', (end-start))\n",
    "\n",
    "start = time.time()\n",
    "file_AES_En_De(file_name_1mb, key_text, 0, encoding= \"utf-8\" )\n",
    "end = time.time()\n",
    "\n",
    "print('1mb file time elapsed: ', (end-start))\n",
    "\n",
    "start = time.time()\n",
    "file_AES_En_De(file_name_10mb, key_text, 0, encoding= \"utf-8\" )\n",
    "end = time.time()\n",
    "\n",
    "print('10mb file time elapsed: ', (end-start))\n",
    "\n",
    "start = time.time()\n",
    "file_AES_En_De(file_name_100mb, key_text, 0, encoding= \"utf-8\" )\n",
    "end = time.time()\n",
    "\n",
    "print('100mb file time elapsed: ', (end-start))\n",
    "    "
   ]
  },
  {
   "cell_type": "markdown",
   "metadata": {},
   "source": [
    "## Описание используемых алгоритмов\n",
    "\n",
    "Для проведения замеров был выбран алгоритмы AES и ГОСТ 28147-89, написанные на C++. Так же алгоритм AES был написан для ПЛИС с использованием методов синтеза выского уровня для перевода алгоритма с языка С++ на язык описания аппаратуры VHDL."
   ]
  },
  {
   "cell_type": "markdown",
   "metadata": {},
   "source": [
    "## Результат теста времени:\n",
    "\n",
    "## ПК\n",
    "### ГОСТ 28147-89\n",
    "\n",
    "|  Size | Time, ms |    Speed   |\n",
    "|:-----:|:--------:|------------|\n",
    "| 200kb |    18    | 88.8 Mbps  |\n",
    "| 1mb   |    94    | 87.14 Mbps |\n",
    "| 10mb  |    936   | 87.52 Mbps |\n",
    "| 100mb |   9252   | 88.53 Mbps |\n",
    "\n",
    "### AES\n",
    "\n",
    "|  Size | Time, ms |    Speed   |\n",
    "|:-----:|:--------:|------------|\n",
    "| 200kb |    67    | 23.8 Mbps  |\n",
    "| 1mb   |    340   | 24.08 Mbps |\n",
    "| 10mb  |   3356   | 26.8 Mbps  |\n",
    "| 100mb |   33498  | 24.4 Mbps  |\n",
    "\n",
    "Как видно из результатов, ГОСТ 28147-89 \"Магма\" в среднем в три раза быстрее алгоритма AES\n",
    "\n",
    "## Pynq Z2\n",
    "### AES\n",
    "\n",
    "|  Size | Time, ms |    Speed   |\n",
    "|:-----:|:--------:|:----------:|\n",
    "| 200kb |    39    | 41.02 Mbps |\n",
    "| 1mb   |    209   | 40.00 Mbps |\n",
    "| 10mb  |   3738   | 21.62 Mbps |\n",
    "| 100mb |   21701  | 32.38 Mbps |\n",
    "\n",
    "Было произведено несколько замеров, результаты которых различались на допустимую погрешность. Интересно, что скорость работы алгоритма при шифровании 100мб на Pynq Z2 стабильно заметно меньше скорости шифрования других файлов. Вероятно, это связано с алгоритмом доступа к памяти в Zynq 7020\n",
    "\n",
    "Таким образом, ожидаемая скорость работы алгоритма ГОСТ 28147-89 на Pynq Z2 находится из соотношения:\n",
    "\n",
    "$$ gost_{pynq} = \\frac{gost_{pc} * aes_{pynq}}{aes_{pc}} $$\n",
    "\n",
    "что соответственно:\n",
    "\n",
    "|  Size |    Speed    |\n",
    "|:-----:|:-----------:|\n",
    "| 200kb | 153.04 Mbps |\n",
    "| 1mb   | 144.75 Mbps |\n",
    "| 10mb  | 70.60 Mbps  |\n",
    "| 100mb | 117.47 Mbps |\n",
    "\n",
    "что в среднем **121.46 Mbps**\n",
    "\n",
    "## Тест времени на Zynq 7020\n",
    "\n",
    "Результат теста времени выполнения алгоритма AES без использования ПЛИС:\n",
    "\n",
    "|  Size | Time, ms |   Speed   |\n",
    "|:-----:|----------|:---------:|\n",
    "| 200kb | 1059     | 1.50 Mbps |\n",
    "| 1mb   | 5475     | 1.46 Mbps |\n",
    "| 10mb  | 98240    | 0.81 Mbps |\n",
    "| 100mb | 545992   | 1.46 Mbps |\n",
    "\n",
    "Видно, что ПЛИС даёт прирост в скорости примерно в двадцать пять раз, превосходя скорость выполнения даже на ПК (Intel Core i5)\n",
    "\n",
    "## Методы улучшения текущей реализации\n",
    "\n",
    "Очевидно, что данная реализация AES может быть улучшена, что в теории может увеличить скорость в несколько раз. Некоторые проблемы и их методы улучшения:\n",
    "1. В силу того, что HLS IP-блока имеет пропускную способность в 345600 символов, в функции string_AES_En_De приходится делить входящий буфер на части, что сильно влияет на скорость выполнения. Теоретически, этот фрагмент можно заменить, используя инструменты пакета Numpy;\n",
    "2. Высокий прирост производительности должен дать переход от языка Python к компилируемым языкам, например С; \n",
    "3. Максимальный прирост должен дать отказ от использования микроконтроллера для управления IP-блоком и переход к ПЛИС"
   ]
  },
  {
   "cell_type": "code",
   "execution_count": null,
   "metadata": {
    "scrolled": false
   },
   "outputs": [],
   "source": [
    "file_AES_En_De(\"encrypted_test.md\", key_text, 1, encoding= \"utf-8\" )"
   ]
  },
  {
   "cell_type": "markdown",
   "metadata": {},
   "source": [
    "# Шифрование и дешифрование изображений "
   ]
  },
  {
   "cell_type": "markdown",
   "metadata": {},
   "source": [
    "## Создание объекта Image с помощью PI\n",
    "Загрузка изображения с SD карты"
   ]
  },
  {
   "cell_type": "code",
   "execution_count": null,
   "metadata": {},
   "outputs": [],
   "source": [
    "import time\n",
    "from PIL import Image\n",
    "from IPython.display import display"
   ]
  },
  {
   "cell_type": "code",
   "execution_count": null,
   "metadata": {},
   "outputs": [],
   "source": [
    "\"\"\"\n",
    "def image_AES_En_De(original_image, key_text, en_or_decryption, encoding = 'utf-8'):\n",
    "    input:\n",
    "        original_image: объект PIL Image \n",
    "        key_text:   ключ любой длины\n",
    "        en_or_decryption: 0 - шифрование, 1 - дешифрование   \n",
    "        encoding:   кодировка\n",
    "    \n",
    "    return:\n",
    "        result_image: результат в виде PIL Image\n",
    "        result_image_bytes_arrray: результат в виде bytearray     \n",
    "        \n",
    "\"\"\"\n",
    "def image_AES_En_De(original_image, key_text, en_or_decryption, encoding = 'utf-8'):\n",
    "    \n",
    "    if( len(key_text.encode( encoding )) <= 16 ):      #  'utf-8'\n",
    "        key_text = expand_to_128b(key_text, encoding)\n",
    "        key_text = bytes(key_text)\n",
    "    else:\n",
    "        print(\"key length is too long, \"+encoding+\" after endoding：\",len(key_text.encode( encoding ))) #  'utf-8'\n",
    "        return b\"this is a wrong return~~no!!!\"\n",
    "    \n",
    "    image_bytes_object = original_image.tobytes()  \n",
    "    pic_width, pic_height = original_image.size\n",
    "    \n",
    "       \n",
    "    image_bytes_object = expand_to_128b( image_bytes_object )\n",
    "    bytes_of_image     = len(image_bytes_object)  \n",
    "    \n",
    "    print(\"bytes_of_image after expand_to_128b: \",bytes_of_image)\n",
    "    \n",
    "    i = 0;\n",
    "    result_image_bytes_arrray = bytearray()\n",
    "    \n",
    "    if ( en_or_decryption == 0 ):\n",
    "        start = time.time()        \n",
    "            \n",
    "        if( bytes_of_image < Max_buffer_size):\n",
    "#             pass # 直接完成\n",
    "            result_image_bytes_arrray = call_AES_En_De(image_bytes_object, bytes_of_image, bytes(key_text), en_or_decryption)        \n",
    "        else:\n",
    "            i = 0        \n",
    "            while(i < bytes_of_image):\n",
    "                rest_of_bytes = bytes_of_image - i\n",
    "                if( rest_of_bytes > Max_buffer_size ):\n",
    "                    result_image_bytes_arrray.extend( call_AES_En_De((image_bytes_object[i : i + Max_buffer_size]), Max_buffer_size, bytes(key_text),en_or_decryption) )\n",
    "                else:\n",
    "                    result_image_bytes_arrray.extend( call_AES_En_De((image_bytes_object[i : i + rest_of_bytes]), rest_of_bytes, bytes(key_text),en_or_decryption) )\n",
    "                i = i + Max_buffer_size       \n",
    "            \n",
    "        print(i)    \n",
    "        end = time.time()\n",
    "        print(\"Время затрачено: \" + str (end - start) )\n",
    "\n",
    "    elif( en_or_decryption == 1 ):\n",
    "        \n",
    "        start = time.time()\n",
    "        \n",
    "        if( bytes_of_image < Max_buffer_size):\n",
    "#             pass #\n",
    "            result_image_bytes_arrray = call_AES_En_De(image_bytes_object, bytes_of_image, bytes(key_text), en_or_decryption)        \n",
    "        else:\n",
    "            i = 0        \n",
    "            while(i < bytes_of_image):\n",
    "                rest_of_bytes = bytes_of_image - i\n",
    "                if( rest_of_bytes > Max_buffer_size ):\n",
    "                    result_image_bytes_arrray.extend( call_AES_En_De((image_bytes_object[i : i + Max_buffer_size]), Max_buffer_size, bytes(key_text),en_or_decryption) )\n",
    "                else:\n",
    "                    result_image_bytes_arrray.extend( call_AES_En_De((image_bytes_object[i : i + rest_of_bytes]), rest_of_bytes, bytes(key_text),en_or_decryption) )\n",
    "                i = i + Max_buffer_size  \n",
    "        \n",
    "        print(i)\n",
    "        end = time.time()\n",
    "        print(\"Время расшифровки: \" + str (end - start) )\n",
    "        \n",
    "    result_image = Image.frombytes('RGB',(pic_width, pic_height ),bytes(result_image_bytes_arrray))\n",
    "    return result_image, result_image_bytes_arrray"
   ]
  },
  {
   "cell_type": "markdown",
   "metadata": {},
   "source": [
    "## Тест шифрования и дешифрования изображений  "
   ]
  },
  {
   "cell_type": "code",
   "execution_count": null,
   "metadata": {},
   "outputs": [],
   "source": [
    "key_text = \"世界你好啊\"\n",
    "\n",
    "##   /paris/paris\n",
    "##  /lena/lena\n",
    "##  /toys/toys\n",
    "floder_path = \"./images/paris/\"\n",
    "image_path = floder_path + \"paris.jpg\"\n",
    "\n",
    "original_image = Image.open(image_path)\n",
    "pic_width, pic_height = original_image.size\n",
    "\n",
    "display(original_image)\n",
    "print(\"Image size: {}x{} pixels.\".format(pic_width, pic_height))"
   ]
  },
  {
   "cell_type": "markdown",
   "metadata": {},
   "source": [
    "## Шифрование изображений "
   ]
  },
  {
   "cell_type": "code",
   "execution_count": null,
   "metadata": {
    "scrolled": false
   },
   "outputs": [],
   "source": [
    "encryption_image, encryption_image_bytes_arrray = image_AES_En_De(original_image, key_text, 0 )\n",
    "\n",
    "encryption_image_bytes_arrray = bytes( encryption_image_bytes_arrray )\n",
    "# encryption_image = Image.frombytes('L',(pic_width, pic_height ),encryption_image_bytes_arrray)\n",
    "encryption_image2 = Image.frombytes('RGB',(pic_width, pic_height ),encryption_image_bytes_arrray)\n",
    "\n",
    "display(encryption_image)\n",
    "display(encryption_image2)"
   ]
  },
  {
   "cell_type": "markdown",
   "metadata": {},
   "source": [
    "## Дешифрование изображений"
   ]
  },
  {
   "cell_type": "code",
   "execution_count": null,
   "metadata": {
    "scrolled": false
   },
   "outputs": [],
   "source": [
    "decryption_image, decryption_image_bytes_arrray = image_AES_En_De(encryption_image, key_text, 1 )\n",
    "decryption_image_bytes_arrray = bytes( decryption_image_bytes_arrray )\n",
    "\n",
    "# encryption_image = Image.frombytes('L',(pic_width, pic_height ),decryption_image_bytes_arrray)\n",
    "decryption_image2 = Image.frombytes('RGB',(pic_width, pic_height ),decryption_image_bytes_arrray)\n",
    "\n",
    "display(decryption_image)\n",
    "display(decryption_image2)"
   ]
  },
  {
   "cell_type": "markdown",
   "metadata": {},
   "source": [
    "## Сохранение изображений"
   ]
  },
  {
   "cell_type": "code",
   "execution_count": null,
   "metadata": {
    "scrolled": true
   },
   "outputs": [],
   "source": [
    "original_image.save( floder_path + \"original_image.jpg\")\n",
    "encryption_image.save( floder_path + \"encryption_image.jpg\")\n",
    "decryption_image.save( floder_path + \"decryption_image.jpg\")"
   ]
  },
  {
   "cell_type": "code",
   "execution_count": null,
   "metadata": {},
   "outputs": [],
   "source": []
  }
 ],
 "metadata": {
  "kernelspec": {
   "display_name": "Python 3",
   "language": "python",
   "name": "python3"
  },
  "language_info": {
   "codemirror_mode": {
    "name": "ipython",
    "version": 3
   },
   "file_extension": ".py",
   "mimetype": "text/x-python",
   "name": "python",
   "nbconvert_exporter": "python",
   "pygments_lexer": "ipython3",
   "version": "3.6.5"
  }
 },
 "nbformat": 4,
 "nbformat_minor": 2
}
